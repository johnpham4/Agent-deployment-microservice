{
  "metadata": {
    "kernelspec": {
      "display_name": "Python 3",
      "language": "python",
      "name": "python3"
    },
    "language_info": {
      "codemirror_mode": {
        "name": "ipython",
        "version": 3
      },
      "file_extension": ".py",
      "mimetype": "text/x-python",
      "name": "python",
      "nbconvert_exporter": "python",
      "pygments_lexer": "ipython3",
      "version": "3.11.13"
    },
    "accelerator": "GPU",
    "colab": {
      "gpuType": "T4",
      "provenance": []
    },
    "kaggle": {
      "accelerator": "nvidiaTeslaT4",
      "dataSources": [
        {
          "sourceId": 12995808,
          "sourceType": "datasetVersion",
          "datasetId": 8226207
        }
      ],
      "dockerImageVersionId": 31090,
      "isInternetEnabled": true,
      "language": "python",
      "sourceType": "notebook",
      "isGpuEnabled": true
    }
  },
  "nbformat_minor": 0,
  "nbformat": 4,
  "cells": [
    {
      "cell_type": "code",
      "source": [
        "!pip -q install transformers accelerate bitsandbytes trl mlflow boto3"
      ],
      "metadata": {
        "execution": {
          "iopub.status.busy": "2025-09-15T03:48:13.777562Z",
          "iopub.execute_input": "2025-09-15T03:48:13.777810Z",
          "iopub.status.idle": "2025-09-15T03:49:48.575252Z",
          "shell.execute_reply.started": "2025-09-15T03:48:13.777786Z",
          "shell.execute_reply": "2025-09-15T03:49:48.574534Z"
        },
        "id": "yxTWejaxT5bx",
        "trusted": true,
        "colab": {
          "base_uri": "https://localhost:8080/"
        },
        "outputId": "c798b567-cf70-42ed-c088-588fc27e0231"
      },
      "outputs": [
        {
          "output_type": "stream",
          "name": "stdout",
          "text": [
            "\u001b[2K   \u001b[90m━━━━━━━━━━━━━━━━━━━━━━━━━━━━━━━━━━━━━━━━\u001b[0m \u001b[32m60.1/60.1 MB\u001b[0m \u001b[31m12.7 MB/s\u001b[0m eta \u001b[36m0:00:00\u001b[0m\n",
            "\u001b[2K   \u001b[90m━━━━━━━━━━━━━━━━━━━━━━━━━━━━━━━━━━━━━━━━\u001b[0m \u001b[32m564.6/564.6 kB\u001b[0m \u001b[31m24.5 MB/s\u001b[0m eta \u001b[36m0:00:00\u001b[0m\n",
            "\u001b[2K   \u001b[90m━━━━━━━━━━━━━━━━━━━━━━━━━━━━━━━━━━━━━━━━\u001b[0m \u001b[32m26.7/26.7 MB\u001b[0m \u001b[31m45.8 MB/s\u001b[0m eta \u001b[36m0:00:00\u001b[0m\n",
            "\u001b[2K   \u001b[90m━━━━━━━━━━━━━━━━━━━━━━━━━━━━━━━━━━━━━━━━\u001b[0m \u001b[32m2.2/2.2 MB\u001b[0m \u001b[31m59.4 MB/s\u001b[0m eta \u001b[36m0:00:00\u001b[0m\n",
            "\u001b[2K   \u001b[90m━━━━━━━━━━━━━━━━━━━━━━━━━━━━━━━━━━━━━━━━\u001b[0m \u001b[32m1.2/1.2 MB\u001b[0m \u001b[31m30.5 MB/s\u001b[0m eta \u001b[36m0:00:00\u001b[0m\n",
            "\u001b[2K   \u001b[90m━━━━━━━━━━━━━━━━━━━━━━━━━━━━━━━━━━━━━━━━\u001b[0m \u001b[32m139.3/139.3 kB\u001b[0m \u001b[31m6.6 MB/s\u001b[0m eta \u001b[36m0:00:00\u001b[0m\n",
            "\u001b[2K   \u001b[90m━━━━━━━━━━━━━━━━━━━━━━━━━━━━━━━━━━━━━━━━\u001b[0m \u001b[32m14.1/14.1 MB\u001b[0m \u001b[31m64.6 MB/s\u001b[0m eta \u001b[36m0:00:00\u001b[0m\n",
            "\u001b[2K   \u001b[90m━━━━━━━━━━━━━━━━━━━━━━━━━━━━━━━━━━━━━━━━\u001b[0m \u001b[32m147.8/147.8 kB\u001b[0m \u001b[31m8.2 MB/s\u001b[0m eta \u001b[36m0:00:00\u001b[0m\n",
            "\u001b[2K   \u001b[90m━━━━━━━━━━━━━━━━━━━━━━━━━━━━━━━━━━━━━━━━\u001b[0m \u001b[32m329.1/329.1 kB\u001b[0m \u001b[31m10.2 MB/s\u001b[0m eta \u001b[36m0:00:00\u001b[0m\n",
            "\u001b[2K   \u001b[90m━━━━━━━━━━━━━━━━━━━━━━━━━━━━━━━━━━━━━━━━\u001b[0m \u001b[32m114.9/114.9 kB\u001b[0m \u001b[31m6.7 MB/s\u001b[0m eta \u001b[36m0:00:00\u001b[0m\n",
            "\u001b[2K   \u001b[90m━━━━━━━━━━━━━━━━━━━━━━━━━━━━━━━━━━━━━━━━\u001b[0m \u001b[32m85.0/85.0 kB\u001b[0m \u001b[31m7.0 MB/s\u001b[0m eta \u001b[36m0:00:00\u001b[0m\n",
            "\u001b[2K   \u001b[90m━━━━━━━━━━━━━━━━━━━━━━━━━━━━━━━━━━━━━━━━\u001b[0m \u001b[32m85.7/85.7 kB\u001b[0m \u001b[31m7.0 MB/s\u001b[0m eta \u001b[36m0:00:00\u001b[0m\n",
            "\u001b[2K   \u001b[90m━━━━━━━━━━━━━━━━━━━━━━━━━━━━━━━━━━━━━━━━\u001b[0m \u001b[32m86.2/86.2 kB\u001b[0m \u001b[31m7.9 MB/s\u001b[0m eta \u001b[36m0:00:00\u001b[0m\n",
            "\u001b[2K   \u001b[90m━━━━━━━━━━━━━━━━━━━━━━━━━━━━━━━━━━━━━━━━\u001b[0m \u001b[32m718.4/718.4 kB\u001b[0m \u001b[31m33.4 MB/s\u001b[0m eta \u001b[36m0:00:00\u001b[0m\n",
            "\u001b[2K   \u001b[90m━━━━━━━━━━━━━━━━━━━━━━━━━━━━━━━━━━━━━━━━\u001b[0m \u001b[32m203.4/203.4 kB\u001b[0m \u001b[31m17.2 MB/s\u001b[0m eta \u001b[36m0:00:00\u001b[0m\n",
            "\u001b[2K   \u001b[90m━━━━━━━━━━━━━━━━━━━━━━━━━━━━━━━━━━━━━━━━\u001b[0m \u001b[32m106.6/106.6 kB\u001b[0m \u001b[31m7.0 MB/s\u001b[0m eta \u001b[36m0:00:00\u001b[0m\n",
            "\u001b[2K   \u001b[90m━━━━━━━━━━━━━━━━━━━━━━━━━━━━━━━━━━━━━━━━\u001b[0m \u001b[32m96.4/96.4 kB\u001b[0m \u001b[31m8.3 MB/s\u001b[0m eta \u001b[36m0:00:00\u001b[0m\n",
            "\u001b[2K   \u001b[90m━━━━━━━━━━━━━━━━━━━━━━━━━━━━━━━━━━━━━━━━\u001b[0m \u001b[32m224.4/224.4 kB\u001b[0m \u001b[31m18.1 MB/s\u001b[0m eta \u001b[36m0:00:00\u001b[0m\n",
            "\u001b[2K   \u001b[90m━━━━━━━━━━━━━━━━━━━━━━━━━━━━━━━━━━━━━━━━\u001b[0m \u001b[32m331.1/331.1 kB\u001b[0m \u001b[31m24.0 MB/s\u001b[0m eta \u001b[36m0:00:00\u001b[0m\n",
            "\u001b[2K   \u001b[90m━━━━━━━━━━━━━━━━━━━━━━━━━━━━━━━━━━━━━━━━\u001b[0m \u001b[32m71.5/71.5 kB\u001b[0m \u001b[31m5.7 MB/s\u001b[0m eta \u001b[36m0:00:00\u001b[0m\n",
            "\u001b[?25h"
          ]
        }
      ],
      "execution_count": 2
    },
    {
      "cell_type": "code",
      "source": [
        "import os\n",
        "import torch\n",
        "from datasets import load_dataset, Dataset, concatenate_datasets\n",
        "from transformers import (\n",
        "    AutoModelForSeq2SeqLM,          # AutoModel for language modeling tasks\n",
        "    AutoTokenizer,                # AutoTokenizer for tokenization\n",
        "    BitsAndBytesConfig,           # Configuration for BitsAndBytes\n",
        "    TrainingArguments,            # Training arguments for model training\n",
        "    TrainerCallback\n",
        ")\n",
        "from peft import LoraConfig, PeftModel,PeftConfig\n",
        "from trl import SFTTrainer\n",
        "\n",
        "import pandas as pd\n",
        "import numpy as np\n",
        "import os\n",
        "import logging as log\n",
        "from datetime import datetime\n",
        "import matplotlib.pyplot as plt\n",
        "\n",
        "import mlflow\n",
        "from mlflow.tracking import MlflowClient\n",
        "\n",
        "import warnings\n",
        "warnings.filterwarnings('ignore')\n",
        "\n",
        "from data_prep import get_dataset, tokenize_and_mask\n",
        "from peft_lora_config import Peft_Config\n",
        "\n",
        "def setup_logging():\n",
        "    # Remove all handlers associated with the root logger object.\n",
        "    for handler in log.root.handlers[:]:\n",
        "        log.root.removeHandler(handler)\n",
        "\n",
        "    log.basicConfig(\n",
        "        level=log.WARNING,\n",
        "        format=\"%(asctime)s [%(levelname)s] %(message)s\",\n",
        "        handlers=[log.StreamHandler()],\n",
        "    )\n",
        "\n",
        "logger = log.getLogger(__name__)\n",
        "setup_logging()"
      ],
      "metadata": {
        "execution": {
          "iopub.status.busy": "2025-09-15T03:49:48.576144Z",
          "iopub.execute_input": "2025-09-15T03:49:48.576404Z",
          "iopub.status.idle": "2025-09-15T03:50:25.256971Z",
          "shell.execute_reply.started": "2025-09-15T03:49:48.576366Z",
          "shell.execute_reply": "2025-09-15T03:50:25.256250Z"
        },
        "id": "ETQCU7ZekHZ-",
        "trusted": true
      },
      "outputs": [],
      "execution_count": null
    },
    {
      "cell_type": "markdown",
      "source": [
        "# Dataset EDA"
      ],
      "metadata": {
        "id": "yQd8Hn-2AYNd"
      }
    },
    {
      "cell_type": "code",
      "source": [
        "ds = load_dataset(\"tarudesu/ViHealthQA\")\n",
        "ds_train = ds[\"train\"].to_pandas()\n",
        "ds_test = ds[\"test\"].to_pandas()\n",
        "\n",
        "ds_train = pd.concat([ds_train, ds_test])"
      ],
      "metadata": {
        "trusted": true,
        "execution": {
          "iopub.status.busy": "2025-09-15T03:56:23.938438Z",
          "iopub.execute_input": "2025-09-15T03:56:23.938702Z",
          "iopub.status.idle": "2025-09-15T03:56:24.418485Z",
          "shell.execute_reply.started": "2025-09-15T03:56:23.938685Z",
          "shell.execute_reply": "2025-09-15T03:56:24.417934Z"
        },
        "id": "6hCRv4ISYhTr"
      },
      "outputs": [],
      "execution_count": null
    },
    {
      "cell_type": "code",
      "source": [
        "ds_train"
      ],
      "metadata": {
        "colab": {
          "base_uri": "https://localhost:8080/",
          "height": 597
        },
        "id": "-oiC6PwtiqK7",
        "outputId": "02c021d6-f017-401a-f609-eb667d83fe60"
      },
      "execution_count": null,
      "outputs": [
        {
          "output_type": "execute_result",
          "data": {
            "text/plain": [
              "        id                                           question  \\\n",
              "0        1  Đang chích ngừa viêm gan B có chích ngừa Covid...   \n",
              "1        2  Đau đầu, căng thẳng do công việc, suy giảm trí...   \n",
              "2        3  Đặt lưu lượng khí hệ thống Jackson-Rees thấp h...   \n",
              "3        4  Bé 13 tháng tuổi uống thuốc Acyclovir có được ...   \n",
              "4        5  Vừa qua ngày 4/6 tôi có bị con chó ở nhà cắn x...   \n",
              "...    ...                                                ...   \n",
              "2008  2009       Sốt kèm nhức đầu sau khi ngủ dậy là bệnh gì?   \n",
              "2009  2010  Trước Tết em đã làm IVF một lần ở một bệnh việ...   \n",
              "2010  2011  Bệnh nhân tiền sử tiểu đường tuýp 2 nóng rát t...   \n",
              "2011  2012  Cháu 34 tuổi có tiền sử bị dị ứng với đồ ăn nh...   \n",
              "2012  2013  Người bị thiếu máu nhược sắc có cần uống Tardy...   \n",
              "\n",
              "                                                 answer  \\\n",
              "0     Nếu anh/chị đang tiêm ngừa vaccine phòng bệnh ...   \n",
              "1     Tình trạng đau đầu theo bạn mô tả thì chưa rõ....   \n",
              "2     Hệ thống Jackson – Rees dùng khi gây mê để trá...   \n",
              "3     Acyclovir có thể sử dụng cho cả trẻ dưới 13 th...   \n",
              "4     Bệnh dại là bệnh nguy hiểm và nếu có chỉ định ...   \n",
              "...                                                 ...   \n",
              "2008  Bạn có biểu hiện sốt, nhức đầu sau khi ngủ dậy...   \n",
              "2009  Theo các nghiên cứu, dự trữ buồng trứng của ng...   \n",
              "2010  Anh đã xuất hiện biến chứng viêm đa thần kinh ...   \n",
              "2011  Với tiền sử như đã nêu, anh nên thực hiện tiêm...   \n",
              "2012  Đa số các trường hợp các bác sĩ thường chỉ địn...   \n",
              "\n",
              "                                                   link  \n",
              "0     https://vnexpress.net/tu-van-tiem-vaccine-covi...  \n",
              "1     https://www.vinmec.com/vi/suc-khoe-tong-quat/t...  \n",
              "2     https://www.vinmec.com/vi/suc-khoe-tong-quat/t...  \n",
              "3     https://www.vinmec.com/vi/suc-khoe-tong-quat/t...  \n",
              "4     https://vnexpress.net/tu-van-tiem-vaccine-covi...  \n",
              "...                                                 ...  \n",
              "2008  https://www.vinmec.com/vi/suc-khoe-tong-quat/t...  \n",
              "2009  https://vnexpress.net/tu-van-vo-sinh-hiem-muon...  \n",
              "2010  https://www.vinmec.com/vi/tin-tuc/hoi-dap-bac-...  \n",
              "2011  https://vnexpress.net/tu-van-tiem-vaccine-covi...  \n",
              "2012  https://www.vinmec.com/vi/tin-tuc/hoi-dap-bac-...  \n",
              "\n",
              "[9022 rows x 4 columns]"
            ],
            "text/html": [
              "\n",
              "  <div id=\"df-8be2af5f-90c1-4538-b430-2cb8b3784ec2\" class=\"colab-df-container\">\n",
              "    <div>\n",
              "<style scoped>\n",
              "    .dataframe tbody tr th:only-of-type {\n",
              "        vertical-align: middle;\n",
              "    }\n",
              "\n",
              "    .dataframe tbody tr th {\n",
              "        vertical-align: top;\n",
              "    }\n",
              "\n",
              "    .dataframe thead th {\n",
              "        text-align: right;\n",
              "    }\n",
              "</style>\n",
              "<table border=\"1\" class=\"dataframe\">\n",
              "  <thead>\n",
              "    <tr style=\"text-align: right;\">\n",
              "      <th></th>\n",
              "      <th>id</th>\n",
              "      <th>question</th>\n",
              "      <th>answer</th>\n",
              "      <th>link</th>\n",
              "    </tr>\n",
              "  </thead>\n",
              "  <tbody>\n",
              "    <tr>\n",
              "      <th>0</th>\n",
              "      <td>1</td>\n",
              "      <td>Đang chích ngừa viêm gan B có chích ngừa Covid...</td>\n",
              "      <td>Nếu anh/chị đang tiêm ngừa vaccine phòng bệnh ...</td>\n",
              "      <td>https://vnexpress.net/tu-van-tiem-vaccine-covi...</td>\n",
              "    </tr>\n",
              "    <tr>\n",
              "      <th>1</th>\n",
              "      <td>2</td>\n",
              "      <td>Đau đầu, căng thẳng do công việc, suy giảm trí...</td>\n",
              "      <td>Tình trạng đau đầu theo bạn mô tả thì chưa rõ....</td>\n",
              "      <td>https://www.vinmec.com/vi/suc-khoe-tong-quat/t...</td>\n",
              "    </tr>\n",
              "    <tr>\n",
              "      <th>2</th>\n",
              "      <td>3</td>\n",
              "      <td>Đặt lưu lượng khí hệ thống Jackson-Rees thấp h...</td>\n",
              "      <td>Hệ thống Jackson – Rees dùng khi gây mê để trá...</td>\n",
              "      <td>https://www.vinmec.com/vi/suc-khoe-tong-quat/t...</td>\n",
              "    </tr>\n",
              "    <tr>\n",
              "      <th>3</th>\n",
              "      <td>4</td>\n",
              "      <td>Bé 13 tháng tuổi uống thuốc Acyclovir có được ...</td>\n",
              "      <td>Acyclovir có thể sử dụng cho cả trẻ dưới 13 th...</td>\n",
              "      <td>https://www.vinmec.com/vi/suc-khoe-tong-quat/t...</td>\n",
              "    </tr>\n",
              "    <tr>\n",
              "      <th>4</th>\n",
              "      <td>5</td>\n",
              "      <td>Vừa qua ngày 4/6 tôi có bị con chó ở nhà cắn x...</td>\n",
              "      <td>Bệnh dại là bệnh nguy hiểm và nếu có chỉ định ...</td>\n",
              "      <td>https://vnexpress.net/tu-van-tiem-vaccine-covi...</td>\n",
              "    </tr>\n",
              "    <tr>\n",
              "      <th>...</th>\n",
              "      <td>...</td>\n",
              "      <td>...</td>\n",
              "      <td>...</td>\n",
              "      <td>...</td>\n",
              "    </tr>\n",
              "    <tr>\n",
              "      <th>2008</th>\n",
              "      <td>2009</td>\n",
              "      <td>Sốt kèm nhức đầu sau khi ngủ dậy là bệnh gì?</td>\n",
              "      <td>Bạn có biểu hiện sốt, nhức đầu sau khi ngủ dậy...</td>\n",
              "      <td>https://www.vinmec.com/vi/suc-khoe-tong-quat/t...</td>\n",
              "    </tr>\n",
              "    <tr>\n",
              "      <th>2009</th>\n",
              "      <td>2010</td>\n",
              "      <td>Trước Tết em đã làm IVF một lần ở một bệnh việ...</td>\n",
              "      <td>Theo các nghiên cứu, dự trữ buồng trứng của ng...</td>\n",
              "      <td>https://vnexpress.net/tu-van-vo-sinh-hiem-muon...</td>\n",
              "    </tr>\n",
              "    <tr>\n",
              "      <th>2010</th>\n",
              "      <td>2011</td>\n",
              "      <td>Bệnh nhân tiền sử tiểu đường tuýp 2 nóng rát t...</td>\n",
              "      <td>Anh đã xuất hiện biến chứng viêm đa thần kinh ...</td>\n",
              "      <td>https://www.vinmec.com/vi/tin-tuc/hoi-dap-bac-...</td>\n",
              "    </tr>\n",
              "    <tr>\n",
              "      <th>2011</th>\n",
              "      <td>2012</td>\n",
              "      <td>Cháu 34 tuổi có tiền sử bị dị ứng với đồ ăn nh...</td>\n",
              "      <td>Với tiền sử như đã nêu, anh nên thực hiện tiêm...</td>\n",
              "      <td>https://vnexpress.net/tu-van-tiem-vaccine-covi...</td>\n",
              "    </tr>\n",
              "    <tr>\n",
              "      <th>2012</th>\n",
              "      <td>2013</td>\n",
              "      <td>Người bị thiếu máu nhược sắc có cần uống Tardy...</td>\n",
              "      <td>Đa số các trường hợp các bác sĩ thường chỉ địn...</td>\n",
              "      <td>https://www.vinmec.com/vi/tin-tuc/hoi-dap-bac-...</td>\n",
              "    </tr>\n",
              "  </tbody>\n",
              "</table>\n",
              "<p>9022 rows × 4 columns</p>\n",
              "</div>\n",
              "    <div class=\"colab-df-buttons\">\n",
              "\n",
              "  <div class=\"colab-df-container\">\n",
              "    <button class=\"colab-df-convert\" onclick=\"convertToInteractive('df-8be2af5f-90c1-4538-b430-2cb8b3784ec2')\"\n",
              "            title=\"Convert this dataframe to an interactive table.\"\n",
              "            style=\"display:none;\">\n",
              "\n",
              "  <svg xmlns=\"http://www.w3.org/2000/svg\" height=\"24px\" viewBox=\"0 -960 960 960\">\n",
              "    <path d=\"M120-120v-720h720v720H120Zm60-500h600v-160H180v160Zm220 220h160v-160H400v160Zm0 220h160v-160H400v160ZM180-400h160v-160H180v160Zm440 0h160v-160H620v160ZM180-180h160v-160H180v160Zm440 0h160v-160H620v160Z\"/>\n",
              "  </svg>\n",
              "    </button>\n",
              "\n",
              "  <style>\n",
              "    .colab-df-container {\n",
              "      display:flex;\n",
              "      gap: 12px;\n",
              "    }\n",
              "\n",
              "    .colab-df-convert {\n",
              "      background-color: #E8F0FE;\n",
              "      border: none;\n",
              "      border-radius: 50%;\n",
              "      cursor: pointer;\n",
              "      display: none;\n",
              "      fill: #1967D2;\n",
              "      height: 32px;\n",
              "      padding: 0 0 0 0;\n",
              "      width: 32px;\n",
              "    }\n",
              "\n",
              "    .colab-df-convert:hover {\n",
              "      background-color: #E2EBFA;\n",
              "      box-shadow: 0px 1px 2px rgba(60, 64, 67, 0.3), 0px 1px 3px 1px rgba(60, 64, 67, 0.15);\n",
              "      fill: #174EA6;\n",
              "    }\n",
              "\n",
              "    .colab-df-buttons div {\n",
              "      margin-bottom: 4px;\n",
              "    }\n",
              "\n",
              "    [theme=dark] .colab-df-convert {\n",
              "      background-color: #3B4455;\n",
              "      fill: #D2E3FC;\n",
              "    }\n",
              "\n",
              "    [theme=dark] .colab-df-convert:hover {\n",
              "      background-color: #434B5C;\n",
              "      box-shadow: 0px 1px 3px 1px rgba(0, 0, 0, 0.15);\n",
              "      filter: drop-shadow(0px 1px 2px rgba(0, 0, 0, 0.3));\n",
              "      fill: #FFFFFF;\n",
              "    }\n",
              "  </style>\n",
              "\n",
              "    <script>\n",
              "      const buttonEl =\n",
              "        document.querySelector('#df-8be2af5f-90c1-4538-b430-2cb8b3784ec2 button.colab-df-convert');\n",
              "      buttonEl.style.display =\n",
              "        google.colab.kernel.accessAllowed ? 'block' : 'none';\n",
              "\n",
              "      async function convertToInteractive(key) {\n",
              "        const element = document.querySelector('#df-8be2af5f-90c1-4538-b430-2cb8b3784ec2');\n",
              "        const dataTable =\n",
              "          await google.colab.kernel.invokeFunction('convertToInteractive',\n",
              "                                                    [key], {});\n",
              "        if (!dataTable) return;\n",
              "\n",
              "        const docLinkHtml = 'Like what you see? Visit the ' +\n",
              "          '<a target=\"_blank\" href=https://colab.research.google.com/notebooks/data_table.ipynb>data table notebook</a>'\n",
              "          + ' to learn more about interactive tables.';\n",
              "        element.innerHTML = '';\n",
              "        dataTable['output_type'] = 'display_data';\n",
              "        await google.colab.output.renderOutput(dataTable, element);\n",
              "        const docLink = document.createElement('div');\n",
              "        docLink.innerHTML = docLinkHtml;\n",
              "        element.appendChild(docLink);\n",
              "      }\n",
              "    </script>\n",
              "  </div>\n",
              "\n",
              "\n",
              "    <div id=\"df-c8e9d188-da1c-419c-8f36-a1cfa07d456e\">\n",
              "      <button class=\"colab-df-quickchart\" onclick=\"quickchart('df-c8e9d188-da1c-419c-8f36-a1cfa07d456e')\"\n",
              "                title=\"Suggest charts\"\n",
              "                style=\"display:none;\">\n",
              "\n",
              "<svg xmlns=\"http://www.w3.org/2000/svg\" height=\"24px\"viewBox=\"0 0 24 24\"\n",
              "     width=\"24px\">\n",
              "    <g>\n",
              "        <path d=\"M19 3H5c-1.1 0-2 .9-2 2v14c0 1.1.9 2 2 2h14c1.1 0 2-.9 2-2V5c0-1.1-.9-2-2-2zM9 17H7v-7h2v7zm4 0h-2V7h2v10zm4 0h-2v-4h2v4z\"/>\n",
              "    </g>\n",
              "</svg>\n",
              "      </button>\n",
              "\n",
              "<style>\n",
              "  .colab-df-quickchart {\n",
              "      --bg-color: #E8F0FE;\n",
              "      --fill-color: #1967D2;\n",
              "      --hover-bg-color: #E2EBFA;\n",
              "      --hover-fill-color: #174EA6;\n",
              "      --disabled-fill-color: #AAA;\n",
              "      --disabled-bg-color: #DDD;\n",
              "  }\n",
              "\n",
              "  [theme=dark] .colab-df-quickchart {\n",
              "      --bg-color: #3B4455;\n",
              "      --fill-color: #D2E3FC;\n",
              "      --hover-bg-color: #434B5C;\n",
              "      --hover-fill-color: #FFFFFF;\n",
              "      --disabled-bg-color: #3B4455;\n",
              "      --disabled-fill-color: #666;\n",
              "  }\n",
              "\n",
              "  .colab-df-quickchart {\n",
              "    background-color: var(--bg-color);\n",
              "    border: none;\n",
              "    border-radius: 50%;\n",
              "    cursor: pointer;\n",
              "    display: none;\n",
              "    fill: var(--fill-color);\n",
              "    height: 32px;\n",
              "    padding: 0;\n",
              "    width: 32px;\n",
              "  }\n",
              "\n",
              "  .colab-df-quickchart:hover {\n",
              "    background-color: var(--hover-bg-color);\n",
              "    box-shadow: 0 1px 2px rgba(60, 64, 67, 0.3), 0 1px 3px 1px rgba(60, 64, 67, 0.15);\n",
              "    fill: var(--button-hover-fill-color);\n",
              "  }\n",
              "\n",
              "  .colab-df-quickchart-complete:disabled,\n",
              "  .colab-df-quickchart-complete:disabled:hover {\n",
              "    background-color: var(--disabled-bg-color);\n",
              "    fill: var(--disabled-fill-color);\n",
              "    box-shadow: none;\n",
              "  }\n",
              "\n",
              "  .colab-df-spinner {\n",
              "    border: 2px solid var(--fill-color);\n",
              "    border-color: transparent;\n",
              "    border-bottom-color: var(--fill-color);\n",
              "    animation:\n",
              "      spin 1s steps(1) infinite;\n",
              "  }\n",
              "\n",
              "  @keyframes spin {\n",
              "    0% {\n",
              "      border-color: transparent;\n",
              "      border-bottom-color: var(--fill-color);\n",
              "      border-left-color: var(--fill-color);\n",
              "    }\n",
              "    20% {\n",
              "      border-color: transparent;\n",
              "      border-left-color: var(--fill-color);\n",
              "      border-top-color: var(--fill-color);\n",
              "    }\n",
              "    30% {\n",
              "      border-color: transparent;\n",
              "      border-left-color: var(--fill-color);\n",
              "      border-top-color: var(--fill-color);\n",
              "      border-right-color: var(--fill-color);\n",
              "    }\n",
              "    40% {\n",
              "      border-color: transparent;\n",
              "      border-right-color: var(--fill-color);\n",
              "      border-top-color: var(--fill-color);\n",
              "    }\n",
              "    60% {\n",
              "      border-color: transparent;\n",
              "      border-right-color: var(--fill-color);\n",
              "    }\n",
              "    80% {\n",
              "      border-color: transparent;\n",
              "      border-right-color: var(--fill-color);\n",
              "      border-bottom-color: var(--fill-color);\n",
              "    }\n",
              "    90% {\n",
              "      border-color: transparent;\n",
              "      border-bottom-color: var(--fill-color);\n",
              "    }\n",
              "  }\n",
              "</style>\n",
              "\n",
              "      <script>\n",
              "        async function quickchart(key) {\n",
              "          const quickchartButtonEl =\n",
              "            document.querySelector('#' + key + ' button');\n",
              "          quickchartButtonEl.disabled = true;  // To prevent multiple clicks.\n",
              "          quickchartButtonEl.classList.add('colab-df-spinner');\n",
              "          try {\n",
              "            const charts = await google.colab.kernel.invokeFunction(\n",
              "                'suggestCharts', [key], {});\n",
              "          } catch (error) {\n",
              "            console.error('Error during call to suggestCharts:', error);\n",
              "          }\n",
              "          quickchartButtonEl.classList.remove('colab-df-spinner');\n",
              "          quickchartButtonEl.classList.add('colab-df-quickchart-complete');\n",
              "        }\n",
              "        (() => {\n",
              "          let quickchartButtonEl =\n",
              "            document.querySelector('#df-c8e9d188-da1c-419c-8f36-a1cfa07d456e button');\n",
              "          quickchartButtonEl.style.display =\n",
              "            google.colab.kernel.accessAllowed ? 'block' : 'none';\n",
              "        })();\n",
              "      </script>\n",
              "    </div>\n",
              "\n",
              "  <div id=\"id_f4890ec5-0a61-48b4-a851-6d9581fa83df\">\n",
              "    <style>\n",
              "      .colab-df-generate {\n",
              "        background-color: #E8F0FE;\n",
              "        border: none;\n",
              "        border-radius: 50%;\n",
              "        cursor: pointer;\n",
              "        display: none;\n",
              "        fill: #1967D2;\n",
              "        height: 32px;\n",
              "        padding: 0 0 0 0;\n",
              "        width: 32px;\n",
              "      }\n",
              "\n",
              "      .colab-df-generate:hover {\n",
              "        background-color: #E2EBFA;\n",
              "        box-shadow: 0px 1px 2px rgba(60, 64, 67, 0.3), 0px 1px 3px 1px rgba(60, 64, 67, 0.15);\n",
              "        fill: #174EA6;\n",
              "      }\n",
              "\n",
              "      [theme=dark] .colab-df-generate {\n",
              "        background-color: #3B4455;\n",
              "        fill: #D2E3FC;\n",
              "      }\n",
              "\n",
              "      [theme=dark] .colab-df-generate:hover {\n",
              "        background-color: #434B5C;\n",
              "        box-shadow: 0px 1px 3px 1px rgba(0, 0, 0, 0.15);\n",
              "        filter: drop-shadow(0px 1px 2px rgba(0, 0, 0, 0.3));\n",
              "        fill: #FFFFFF;\n",
              "      }\n",
              "    </style>\n",
              "    <button class=\"colab-df-generate\" onclick=\"generateWithVariable('ds_train')\"\n",
              "            title=\"Generate code using this dataframe.\"\n",
              "            style=\"display:none;\">\n",
              "\n",
              "  <svg xmlns=\"http://www.w3.org/2000/svg\" height=\"24px\"viewBox=\"0 0 24 24\"\n",
              "       width=\"24px\">\n",
              "    <path d=\"M7,19H8.4L18.45,9,17,7.55,7,17.6ZM5,21V16.75L18.45,3.32a2,2,0,0,1,2.83,0l1.4,1.43a1.91,1.91,0,0,1,.58,1.4,1.91,1.91,0,0,1-.58,1.4L9.25,21ZM18.45,9,17,7.55Zm-12,3A5.31,5.31,0,0,0,4.9,8.1,5.31,5.31,0,0,0,1,6.5,5.31,5.31,0,0,0,4.9,4.9,5.31,5.31,0,0,0,6.5,1,5.31,5.31,0,0,0,8.1,4.9,5.31,5.31,0,0,0,12,6.5,5.46,5.46,0,0,0,6.5,12Z\"/>\n",
              "  </svg>\n",
              "    </button>\n",
              "    <script>\n",
              "      (() => {\n",
              "      const buttonEl =\n",
              "        document.querySelector('#id_f4890ec5-0a61-48b4-a851-6d9581fa83df button.colab-df-generate');\n",
              "      buttonEl.style.display =\n",
              "        google.colab.kernel.accessAllowed ? 'block' : 'none';\n",
              "\n",
              "      buttonEl.onclick = () => {\n",
              "        google.colab.notebook.generateWithVariable('ds_train');\n",
              "      }\n",
              "      })();\n",
              "    </script>\n",
              "  </div>\n",
              "\n",
              "    </div>\n",
              "  </div>\n"
            ],
            "application/vnd.google.colaboratory.intrinsic+json": {
              "type": "dataframe",
              "variable_name": "ds_train",
              "summary": "{\n  \"name\": \"ds_train\",\n  \"rows\": 9022,\n  \"fields\": [\n    {\n      \"column\": \"id\",\n      \"properties\": {\n        \"dtype\": \"number\",\n        \"std\": 2082,\n        \"min\": 1,\n        \"max\": 7009,\n        \"num_unique_values\": 7009,\n        \"samples\": [\n          5134,\n          6723,\n          246\n        ],\n        \"semantic_type\": \"\",\n        \"description\": \"\"\n      }\n    },\n    {\n      \"column\": \"question\",\n      \"properties\": {\n        \"dtype\": \"string\",\n        \"num_unique_values\": 9003,\n        \"samples\": [\n          \"N\\u1eef gi\\u1edbi m\\u1eaft d\\u00ednh keo d\\u00e1n \\u0111i\\u1ec1u tr\\u1ecb nh\\u01b0 th\\u1ebf n\\u00e0o?\",\n          \"T\\u00f4i b\\u1ecb d\\u1ecb \\u1ee9ng th\\u1eddi ti\\u1ebft, khi thay \\u0111\\u1ed5i th\\u1eddi ti\\u1ebft l\\u00e0 b\\u1ecb n\\u1ed5i m\\u1ea9n ng\\u1ee9a kh\\u00e1 nhi\\u1ec1u, li\\u1ec7u c\\u00f3 ti\\u00eam \\u0111\\u01b0\\u1ee3c vaccine ng\\u1eeba Covid-19 kh\\u00f4ng?\",\n          \"Xu\\u1ea5t hi\\u1ec7n c\\u00e1c v\\u1ebft t\\u00edm tr\\u00ean da sau g\\u00e3i ng\\u1ee9a l\\u00e0 b\\u1ecb l\\u00e0m sao?\"\n        ],\n        \"semantic_type\": \"\",\n        \"description\": \"\"\n      }\n    },\n    {\n      \"column\": \"answer\",\n      \"properties\": {\n        \"dtype\": \"string\",\n        \"num_unique_values\": 8923,\n        \"samples\": [\n          \"Tr\\u01b0\\u1eddng h\\u1ee3p c\\u1ee7a anh, ch\\u1ecb n\\u1ebfu c\\u00e1c m\\u1ea9n \\u0111\\u1ecf kh\\u00f4ng ng\\u1ee9a, kh\\u00f4ng t\\u0103ng th\\u00eam th\\u00ec \\u0111\\u00e2y l\\u00e0 ph\\u1ea3n \\u1ee9ng \\u0111\\u1ed9 I, v\\u00e0 c\\u0169ng kh\\u00f4ng lo\\u1ea1i tr\\u1eeb b\\u1ec7nh l\\u00ed tr\\u00f9ng h\\u1ee3p. Do v\\u1eady, anh/ch\\u1ecb v\\u1eabn c\\u00f3 th\\u1ec3 ti\\u1ebfp t\\u1ee5c ti\\u00eam m\\u0169i 2 vaccine Covid-19 v\\u00e0 n\\u00ean ti\\u00eam t\\u1ea1i kh\\u1ed1i b\\u1ec7nh vi\\u1ec7n ho\\u1eb7c c\\u01a1 s\\u1edf y t\\u1ebf \\u0111\\u1ee7 n\\u0103ng l\\u1ef1c h\\u1ed7 tr\\u1ee3 c\\u1ea5p c\\u1ee9u \\u0111\\u1ec3 \\u0111\\u1ea3m b\\u1ea3o an to\\u00e0n.\",\n          \"Theo nh\\u01b0 nh\\u1eefng th\\u00f4ng tin m\\u00e0 b\\u1ea1n cung c\\u1ea5p, ch\\u01b0a th\\u1ec3 x\\u00e1c \\u0111\\u1ecbnh \\u0111\\u01b0\\u1ee3c vi\\u1ec7c b\\u00e9 nh\\u00e0 b\\u1ea1n c\\u00f3 b\\u1ecb x\\u00e2m h\\u1ea1i hay kh\\u00f4ng. V\\u00ec v\\u1eady, \\u0111\\u1ec3 c\\u00f3 \\u0111\\u01b0\\u1ee3c k\\u1ebft qu\\u1ea3 ch\\u1ea9n \\u0111o\\u00e1n ch\\u00ednh x\\u00e1c nh\\u1ea5t b\\u1ea1n n\\u00ean \\u0111\\u01b0a b\\u00e9 \\u0111i th\\u0103m kh\\u00e1m chuy\\u00ean khoa S\\u1ea3n - Ph\\u1ee5 khoa t\\u1ea1i nh\\u1eefng c\\u01a1 s\\u1edf Y t\\u1ebf uy t\\u00edn.\",\n          \"Ch\\u1ecb c\\u00f3 ti\\u1ec1n s\\u1eed gi\\u1ea3m ti\\u1ec3u c\\u1ea7u v\\u00f4 c\\u0103n, hi\\u1ec7n b\\u1ec7nh \\u1ed5n \\u0111\\u1ecbnh ch\\u1ec9 theo d\\u00f5i v\\u00e0 kh\\u1ed3ng s\\u1eed d\\u1ee5ng thu\\u1ed1c c\\u00f3 th\\u1ec3 ti\\u00eam vaccine ph\\u00f2ng Covid-19 b\\u00ecnh th\\u01b0\\u1eddng. Tuy nhi\\u00ean tr\\u01b0\\u1eddng h\\u1ee3p c\\u1ee7a ch\\u1ecb c\\u1ea7n ti\\u00eam ch\\u1ee7ng t\\u1ea1i kh\\u1ed1i b\\u1ec7nh vi\\u1ec7n.\"\n        ],\n        \"semantic_type\": \"\",\n        \"description\": \"\"\n      }\n    },\n    {\n      \"column\": \"link\",\n      \"properties\": {\n        \"dtype\": \"string\",\n        \"num_unique_values\": 6651,\n        \"samples\": [\n          \"https://www.vinmec.com/vi/tin-tuc/hoi-dap-bac-si/nguoi-mac-suy-than-man-chay-than-nhan-tao-co-the-song-duoc-bao-lau/\",\n          \"https://www.vinmec.com/vi/suc-khoe-tong-quat/tu-van-bac-si/ten-thuoc-va-phuong-phap-dieu-tri-viem-phe-quan-man-tinh-la-gi/\",\n          \"https://www.vinmec.com/vi/tin-tuc/hoi-dap-bac-si/mo-lech-vet-ngan-mui-co-de-bi-gay-khong/\"\n        ],\n        \"semantic_type\": \"\",\n        \"description\": \"\"\n      }\n    }\n  ]\n}"
            }
          },
          "metadata": {},
          "execution_count": 4
        }
      ]
    },
    {
      "cell_type": "markdown",
      "source": [
        "# Set up PEFT and Lora Configs"
      ],
      "metadata": {
        "id": "SEg0JONDAQR5"
      }
    },
    {
      "cell_type": "code",
      "source": [
        "config = Peft_Config()"
      ],
      "metadata": {
        "execution": {
          "iopub.status.busy": "2025-09-14T19:31:45.425656Z",
          "iopub.execute_input": "2025-09-14T19:31:45.425990Z",
          "iopub.status.idle": "2025-09-14T19:31:45.439216Z",
          "shell.execute_reply.started": "2025-09-14T19:31:45.425969Z",
          "shell.execute_reply": "2025-09-14T19:31:45.438555Z"
        },
        "id": "l5HV6N48kRhL",
        "trusted": true
      },
      "outputs": [],
      "execution_count": null
    },
    {
      "cell_type": "code",
      "source": [
        "# Step 2 :Load tokenizer and model with QLoRA configuration\n",
        "compute_dtype = getattr(torch, config.bnb_4bit_compute_dtype)\n",
        "\n",
        "bnb_config = BitsAndBytesConfig(\n",
        "    load_in_4bit=config.use_4bit,\n",
        "    bnb_4bit_quant_type=config.bnb_4bit_quant_type,\n",
        "    bnb_4bit_compute_dtype=compute_dtype,\n",
        "    bnb_4bit_use_double_quant=config.use_nested_quant,\n",
        ")"
      ],
      "metadata": {
        "execution": {
          "iopub.status.busy": "2025-09-14T19:31:45.439948Z",
          "iopub.execute_input": "2025-09-14T19:31:45.440238Z",
          "iopub.status.idle": "2025-09-14T19:31:45.451393Z",
          "shell.execute_reply.started": "2025-09-14T19:31:45.440216Z",
          "shell.execute_reply": "2025-09-14T19:31:45.450729Z"
        },
        "id": "tEIaKdg2kXUa",
        "trusted": true
      },
      "outputs": [],
      "execution_count": null
    },
    {
      "cell_type": "code",
      "source": [
        "# Step 3 :Check GPU compatibility with bfloat16\n",
        "if compute_dtype == torch.float16 and config.use_4bit:\n",
        "    major, _ = torch.cuda.get_device_capability()\n",
        "    if major >= 8:\n",
        "        print(\"=\" * 80)\n",
        "        print(\"Your GPU supports bfloat16: accelerate training with bf16=True\")\n",
        "        print(\"=\" * 80)"
      ],
      "metadata": {
        "execution": {
          "iopub.status.busy": "2025-09-14T19:31:45.452078Z",
          "iopub.execute_input": "2025-09-14T19:31:45.452266Z",
          "iopub.status.idle": "2025-09-14T19:31:45.465512Z",
          "shell.execute_reply.started": "2025-09-14T19:31:45.452252Z",
          "shell.execute_reply": "2025-09-14T19:31:45.464847Z"
        },
        "id": "mC93omh-kXoK",
        "trusted": true
      },
      "outputs": [],
      "execution_count": null
    },
    {
      "cell_type": "code",
      "source": [
        "# Step 4 :Load base model\n",
        "model = AutoModelForSeq2SeqLM.from_pretrained(\n",
        "    config.model_name,\n",
        "    quantization_config=bnb_config,\n",
        "    device_map=config.device_map\n",
        ")\n",
        "model.config.use_cache = False\n",
        "model.config.pretraining_tp = 1"
      ],
      "metadata": {
        "id": "lrTEsn49Q7qp"
      },
      "execution_count": null,
      "outputs": []
    },
    {
      "cell_type": "code",
      "source": [
        "# Step 5 :Load LLaMA tokenizer\n",
        "tokenizer = AutoTokenizer.from_pretrained(config.model_name, trust_remote_code=True)\n",
        "\n",
        "special_tokens = {\"additional_special_tokens\": [\"<|system|>\", \"<|user|>\", \"<|assistant|>\"]}\n",
        "tokenizer.add_special_tokens(special_tokens)\n",
        "\n",
        "if tokenizer.pad_token is None:\n",
        "    tokenizer.pad_token = tokenizer.eos_token\n",
        "\n",
        "tokenizer.padding_side = \"right\"\n",
        "\n",
        "tokenizer.chat_template = \"\"\"{% for message in messages %}\n",
        "{% if message['role'] == 'system' %}{{ '<|system|>\\n' + message['content'] + eos_token }}\n",
        "{% elif message['role'] == 'user' %}{{ '<|user|>\\n' + message['content'] + eos_token }}\n",
        "{% elif message['role'] == 'assistant' %}{{ '<|assistant|>\\n' + message['content'] + eos_token }}\n",
        "{% endif %}\n",
        "{% if loop.last and add_generation_prompt %}{{ '<|assistant|>' }}\n",
        "{% endif %}\n",
        "{% endfor %}\"\"\"\n",
        "\n",
        "model.resize_token_embeddings(len(tokenizer))\n",
        "\n",
        "model.config.pad_token_id = tokenizer.pad_token_id\n",
        "model.config.bos_token_id = tokenizer.bos_token_id\n",
        "model.config.eos_token_id = tokenizer.eos_token_id"
      ],
      "metadata": {
        "execution": {
          "iopub.status.busy": "2025-09-14T19:34:14.023693Z",
          "iopub.execute_input": "2025-09-14T19:34:14.023957Z",
          "iopub.status.idle": "2025-09-14T19:34:16.712448Z",
          "shell.execute_reply.started": "2025-09-14T19:34:14.023932Z",
          "shell.execute_reply": "2025-09-14T19:34:16.711661Z"
        },
        "id": "RC0LZ8veXCzh",
        "outputId": "30512a83-8562-4739-e120-d4f3c3b90374",
        "trusted": true,
        "colab": {
          "base_uri": "https://localhost:8080/"
        }
      },
      "outputs": [
        {
          "output_type": "stream",
          "name": "stderr",
          "text": [
            "The new embeddings will be initialized from a multivariate normal distribution that has old embeddings' mean and covariance. As described in this article: https://nlp.stanford.edu/~johnhew/vocab-expansion.html. To disable this, use `mean_resizing=False`\n"
          ]
        }
      ],
      "execution_count": null
    },
    {
      "cell_type": "code",
      "source": [
        "# Step 6 :Load LoRA configuration\n",
        "peft_config = LoraConfig(\n",
        "    lora_alpha=config.lora_alpha,\n",
        "    lora_dropout=config.lora_dropout,\n",
        "    r=config.lora_r,\n",
        "    bias=\"none\",\n",
        "    task_type=\"CAUSAL_LM\",\n",
        ")"
      ],
      "metadata": {
        "execution": {
          "iopub.status.busy": "2025-09-14T19:34:16.713223Z",
          "iopub.execute_input": "2025-09-14T19:34:16.713467Z",
          "iopub.status.idle": "2025-09-14T19:34:16.717634Z",
          "shell.execute_reply.started": "2025-09-14T19:34:16.713443Z",
          "shell.execute_reply": "2025-09-14T19:34:16.716941Z"
        },
        "id": "PY6Tp4TBXGXR",
        "trusted": true
      },
      "outputs": [],
      "execution_count": null
    },
    {
      "cell_type": "markdown",
      "source": [
        "## s3 Config"
      ],
      "metadata": {
        "id": "47Jr9lDtWszF"
      }
    },
    {
      "cell_type": "code",
      "source": [
        "import boto3\n",
        "from dotenv import load_dotenv\n",
        "import os\n",
        "\n",
        "load_dotenv()\n",
        "\n",
        "S3_BUCKET = \"mlflow-artifacts-monitor\"\n",
        "s3_client = boto3.client(\n",
        "    \"s3\",\n",
        "    aws_access_key_id=os.environ[\"AWS_ACCESS_KEY_ID\"],\n",
        "    aws_secret_access_key=os.environ[\"AWS_SECRET_ACCESS_KEY\"],\n",
        "    region_name=os.environ[\"AWS_DEFAULT_REGION\"]\n",
        ")"
      ],
      "metadata": {
        "id": "u3CcO-RrWu6c"
      },
      "execution_count": null,
      "outputs": []
    },
    {
      "cell_type": "markdown",
      "source": [
        "## mlflow tracking"
      ],
      "metadata": {
        "id": "lhRym1YqW4pB"
      }
    },
    {
      "cell_type": "code",
      "source": [
        "# mlflow set tracking\n",
        "mlflow.set_tracking_uri(\"https://ridgy-receptually-mike.ngrok-free.dev\")\n",
        "tracking_uri = mlflow.get_tracking_uri()\n",
        "print(f\"Current tracking uri: {tracking_uri}\")"
      ],
      "metadata": {
        "colab": {
          "base_uri": "https://localhost:8080/"
        },
        "id": "t_ifaFcUf8up",
        "outputId": "ca28e304-5faf-4139-fbf7-148be10d1120"
      },
      "execution_count": null,
      "outputs": [
        {
          "output_type": "stream",
          "name": "stdout",
          "text": [
            "Current tracking uri: https://ridgy-receptually-mike.ngrok-free.dev\n"
          ]
        }
      ]
    },
    {
      "cell_type": "code",
      "source": [
        "mlflow.set_experiment(\"healthcarechatbot\")\n",
        "\n",
        "# Step 7 :Set training parameters\n",
        "training_arguments = TrainingArguments(\n",
        "    # Set this to mlflow for logging your training\n",
        "    report_to=\"mlflow\",\n",
        "    # Name the MLflow run\n",
        "    run_name=f\"{config.model_name_finetuned}-{datetime.now().strftime('%Y-%m-%d-%H-%M-%s')}\",\n",
        "    output_dir=config.output_dir,\n",
        "    num_train_epochs=config.num_train_epochs,\n",
        "    per_device_train_batch_size=config.per_device_train_batch_size,\n",
        "    gradient_accumulation_steps=config.gradient_accumulation_steps,\n",
        "    optim=config.optim,\n",
        "    save_steps=config.save_steps,\n",
        "    logging_steps=config.logging_steps,\n",
        "    learning_rate=config.learning_rate,\n",
        "    weight_decay=config.weight_decay,\n",
        "    fp16=config.fp16,\n",
        "    bf16=config.bf16,\n",
        "    max_grad_norm=config.max_grad_norm,\n",
        "    max_steps=config.max_steps,\n",
        "    warmup_ratio=config.warmup_ratio,\n",
        "    group_by_length=config.group_by_length,\n",
        "    lr_scheduler_type=config.lr_scheduler_type,\n",
        ")"
      ],
      "metadata": {
        "execution": {
          "iopub.status.busy": "2025-09-14T19:34:16.718436Z",
          "iopub.execute_input": "2025-09-14T19:34:16.718689Z",
          "iopub.status.idle": "2025-09-14T19:34:16.774099Z",
          "shell.execute_reply.started": "2025-09-14T19:34:16.718667Z",
          "shell.execute_reply": "2025-09-14T19:34:16.773519Z"
        },
        "id": "Qfm8ALUKXHj0",
        "trusted": true
      },
      "outputs": [],
      "execution_count": null
    },
    {
      "cell_type": "code",
      "source": [
        "ds_train = get_dataset()\n",
        "\n",
        "message = ds_train['messages']\n",
        "\n",
        "tokenized_chat = tokenizer.apply_chat_template(message, tokenize=True, add_generation_prompt=True, return_tensors=\"pt\")\n",
        "print(tokenizer.decode(tokenized_chat[0]))"
      ],
      "metadata": {
        "execution": {
          "iopub.status.busy": "2025-09-14T19:34:16.775012Z",
          "iopub.execute_input": "2025-09-14T19:34:16.775290Z",
          "iopub.status.idle": "2025-09-14T19:34:27.243645Z",
          "shell.execute_reply.started": "2025-09-14T19:34:16.775239Z",
          "shell.execute_reply": "2025-09-14T19:34:27.242835Z"
        },
        "id": "QHS7ptF2AyAh",
        "outputId": "b005811e-085d-4465-864b-2568edf01c88",
        "trusted": true,
        "colab": {
          "base_uri": "https://localhost:8080/"
        }
      },
      "outputs": [
        {
          "output_type": "stream",
          "name": "stdout",
          "text": [
            "<|assistant|> \n"
          ]
        }
      ],
      "execution_count": null
    },
    {
      "cell_type": "code",
      "source": [
        "ds_train[0]"
      ],
      "metadata": {
        "trusted": true,
        "execution": {
          "iopub.status.busy": "2025-09-14T19:34:27.244556Z",
          "iopub.execute_input": "2025-09-14T19:34:27.244815Z",
          "iopub.status.idle": "2025-09-14T19:34:27.250780Z",
          "shell.execute_reply.started": "2025-09-14T19:34:27.244798Z",
          "shell.execute_reply": "2025-09-14T19:34:27.249970Z"
        },
        "colab": {
          "base_uri": "https://localhost:8080/"
        },
        "id": "rGuJYMQ6YhTs",
        "outputId": "c27bbedc-14e7-4915-99cb-cfe363395ba9"
      },
      "outputs": [
        {
          "output_type": "execute_result",
          "data": {
            "text/plain": [
              "{'messages': [{'content': 'Bạn là một trợ lý y tế thông minh, trả lời ngắn gọn, chính xác, dựa trên kiến thức y tế Việt Nam.',\n",
              "   'role': 'system'},\n",
              "  {'content': 'Đang chích ngừa viêm gan B có chích ngừa Covid-19 được không?',\n",
              "   'role': 'user'},\n",
              "  {'content': 'Nếu anh/chị đang tiêm ngừa vaccine phòng bệnh viêm gan B, anh/chị vẫn có thể tiêm phòng vaccine phòng Covid-19, tuy nhiên vaccine Covid-19 phải được tiêm cách trước và sau mũi vaccine viêm gan B tối thiểu là 14 ngày.',\n",
              "   'role': 'assistant'}]}"
            ]
          },
          "metadata": {},
          "execution_count": 15
        }
      ],
      "execution_count": null
    },
    {
      "cell_type": "code",
      "source": [
        "from mlflow.models import infer_signature\n",
        "\n",
        "sample = ds_train[0][\"messages\"]\n",
        "\n",
        "# MLflow infers schema from the provided sample input/output/params\n",
        "signature = infer_signature(\n",
        "  model_input=sample[1][\"content\"],\n",
        "  model_output=sample[2][\"content\"],\n",
        "  # Parameters are saved with default values if specified\n",
        "  params={\"max_new_tokens\": 256, \"repetition_penalty\": 1.15, \"return_full_text\": False},\n",
        ")\n",
        "\n",
        "signature"
      ],
      "metadata": {
        "colab": {
          "base_uri": "https://localhost:8080/"
        },
        "id": "08sU6tAtcjWt",
        "outputId": "5a549cb2-af34-4931-c31e-526a5139684e"
      },
      "execution_count": null,
      "outputs": [
        {
          "output_type": "execute_result",
          "data": {
            "text/plain": [
              "inputs: \n",
              "  [string (required)]\n",
              "outputs: \n",
              "  [string (required)]\n",
              "params: \n",
              "  ['max_new_tokens': long (default: 256), 'repetition_penalty': double (default: 1.15), 'return_full_text': boolean (default: False)]"
            ]
          },
          "metadata": {},
          "execution_count": 16
        }
      ]
    },
    {
      "cell_type": "code",
      "source": [
        "max_length = 1024\n",
        "\n",
        "# Apply mapping (non-batched for simplicity; batched mapping can be used for speed)\n",
        "tokenized = ds_train.map(\n",
        "    lambda example: tokenize_and_mask(example, tokenizer, max_length), remove_columns=[\"messages\"])\n",
        "tokenized.set_format(type=\"torch\", columns=[\"input_ids\", \"attention_mask\", \"labels\"])\n",
        "train_dataset = tokenized"
      ],
      "metadata": {
        "trusted": true,
        "execution": {
          "iopub.status.busy": "2025-09-14T19:34:27.251758Z",
          "iopub.execute_input": "2025-09-14T19:34:27.252054Z",
          "iopub.status.idle": "2025-09-14T19:35:01.448198Z",
          "shell.execute_reply.started": "2025-09-14T19:34:27.252030Z",
          "shell.execute_reply": "2025-09-14T19:35:01.446612Z"
        },
        "id": "N7OU1X0MYhTt"
      },
      "outputs": [],
      "execution_count": null
    },
    {
      "cell_type": "code",
      "source": [
        "train_dataset[0]"
      ],
      "metadata": {
        "trusted": true,
        "execution": {
          "iopub.status.busy": "2025-09-14T19:35:01.454211Z",
          "iopub.execute_input": "2025-09-14T19:35:01.454723Z",
          "iopub.status.idle": "2025-09-14T19:35:01.477529Z",
          "shell.execute_reply.started": "2025-09-14T19:35:01.454691Z",
          "shell.execute_reply": "2025-09-14T19:35:01.476816Z"
        },
        "colab": {
          "base_uri": "https://localhost:8080/"
        },
        "id": "aJUl3XNGYhTt",
        "outputId": "95bb7780-ef70-40d2-ef2f-e43a53050304"
      },
      "outputs": [
        {
          "output_type": "execute_result",
          "data": {
            "text/plain": [
              "{'input_ids': tensor([36096,  4440,    49,  ...,     0,     0,     0]),\n",
              " 'attention_mask': tensor([1, 1, 1,  ..., 0, 0, 0]),\n",
              " 'labels': tensor([-100, -100, -100,  ...,    0,    0,    0])}"
            ]
          },
          "metadata": {},
          "execution_count": 18
        }
      ],
      "execution_count": null
    },
    {
      "cell_type": "code",
      "source": [
        "# Step 8 :Set supervised fine-tuning parameters\n",
        "trainer = SFTTrainer(\n",
        "    model=model,\n",
        "    train_dataset=train_dataset,\n",
        "    peft_config=peft_config,\n",
        "    args=training_arguments,\n",
        ")"
      ],
      "metadata": {
        "execution": {
          "iopub.status.busy": "2025-09-14T19:35:01.478220Z",
          "iopub.execute_input": "2025-09-14T19:35:01.478480Z",
          "iopub.status.idle": "2025-09-14T19:35:04.827553Z",
          "shell.execute_reply.started": "2025-09-14T19:35:01.478457Z",
          "shell.execute_reply": "2025-09-14T19:35:04.826775Z"
        },
        "id": "EloFw7GuXI73",
        "trusted": true
      },
      "outputs": [],
      "execution_count": null
    },
    {
      "cell_type": "code",
      "source": [
        "class MLflowLossCallback(TrainerCallback):\n",
        "    def on_log(self, args, state, control, logs=None, **kwargs):\n",
        "        if logs is not None:\n",
        "            for k, v in logs.items():\n",
        "                if isinstance(v, (int, float)):\n",
        "                    mlflow.log_metric(k, v, step=state.global_step)\n",
        "\n",
        "trainer.add_callback(MLflowLossCallback)"
      ],
      "metadata": {
        "id": "jpH0899giYRn"
      },
      "execution_count": null,
      "outputs": []
    },
    {
      "cell_type": "code",
      "source": [
        "with mlflow.start_run() as run:\n",
        "    trainer.train()\n",
        "\n",
        "    # Log training loss curve\n",
        "    history = trainer.state.log_history\n",
        "    steps = [h[\"step\"] for h in history if \"loss\" in h]\n",
        "    losses = [h[\"loss\"] for h in history if \"loss\" in h]\n",
        "\n",
        "    # Log loss per step as metrics\n",
        "    for step, loss in zip(steps, losses):\n",
        "        mlflow.log_metric(\"train_loss\", loss, step=step)\n",
        "\n",
        "    # Step 10: Save trained adapter model (checkpoint)\n",
        "    checkpoint_dir = \"checkpoint_model\"\n",
        "    trainer.model.save_pretrained(checkpoint_dir)\n",
        "    tokenizer.save_pretrained(checkpoint_dir)\n",
        "\n",
        "    # Upload checkpoint folder recursively to S3\n",
        "    checkpoint_s3_prefix = f\"{run.info.run_id}/checkpoint\"\n",
        "    for root, _, files in os.walk(checkpoint_dir):\n",
        "        for file in files:\n",
        "            local_path = os.path.join(root, file)\n",
        "            relative_path = os.path.relpath(local_path, checkpoint_dir)\n",
        "            s3_client.upload_file(local_path, S3_BUCKET, f\"{checkpoint_s3_prefix}/{relative_path}\")\n",
        "\n",
        "    # Log S3 path metadata in MLflow\n",
        "    mlflow.log_param(\"checkpoint_s3_path\", f\"s3://{S3_BUCKET}/{checkpoint_s3_prefix}\")\n",
        "\n",
        "    # Step 11: Merge and save final model with adapter\n",
        "    model = trainer.model\n",
        "    if hasattr(model, \"merge_and_unload\"):\n",
        "        model = model.merge_and_unload()\n",
        "        model.resize_token_embeddings(len(tokenizer))\n",
        "        model.config.pad_token_id = tokenizer.pad_token_id\n",
        "        model.config.eos_token_id = tokenizer.eos_token_id\n",
        "        model.config.bos_token_id = tokenizer.bos_token_id\n",
        "\n",
        "    merged_dir = \"merged_model\"\n",
        "    model.save_pretrained(merged_dir)\n",
        "    tokenizer.save_pretrained(merged_dir)\n",
        "\n",
        "    REGISTERED_MODEL_NAME = \"health-llm\"\n",
        "\n",
        "    model_info = mlflow.transformers.log_model(\n",
        "        transformers_model=merged_dir,\n",
        "        tokenizer=tokenizer,\n",
        "        name=\"model\",\n",
        "        task=\"text2text-generation\",\n",
        "        model_card=None,\n",
        "        pip_requirements=[\"transformers\", \"accelerate\", \"bitsandbytes\"],\n",
        "        registered_model_name=REGISTERED_MODEL_NAME\n",
        "    )\n",
        "\n",
        "    client = MlflowClient()\n",
        "\n",
        "    client.set_registered_model_tag(\n",
        "        name=REGISTERED_MODEL_NAME, key=\"use_case\", value=\"patient_service\"\n",
        "    )\n",
        "\n",
        "    client.update_registered_model(\n",
        "        name=REGISTERED_MODEL_NAME,\n",
        "        description=\"A health-specific chatbot about daily Vietnamese sickness question\",\n",
        "    )\n",
        "\n",
        "    client.set_model_version_tag(\n",
        "        name=REGISTERED_MODEL_NAME,\n",
        "        version=model_info.registered_model_version,\n",
        "        key=\"validation_status\",\n",
        "        value=\"testing\",\n",
        "    )\n",
        "\n",
        "    print(f\"Model registered with version: {model_info.registered_model_version}\")\n",
        "\n",
        "    # Create an alias for easy reference\n",
        "    client.set_registered_model_alias(\n",
        "        name=REGISTERED_MODEL_NAME,\n",
        "        alias=\"Little-testing\",\n",
        "        version=model_info.registered_model_version,\n",
        "    )"
      ],
      "metadata": {
        "execution": {
          "iopub.status.busy": "2025-09-14T19:35:04.828336Z",
          "iopub.execute_input": "2025-09-14T19:35:04.828573Z",
          "iopub.status.idle": "2025-09-14T19:35:22.838538Z",
          "shell.execute_reply.started": "2025-09-14T19:35:04.828551Z",
          "shell.execute_reply": "2025-09-14T19:35:22.837388Z"
        },
        "id": "cFGQPOUfXKtG",
        "trusted": true,
        "colab": {
          "base_uri": "https://localhost:8080/",
          "height": 352
        },
        "outputId": "442dcde2-a586-4e3b-c020-9d0bb724aaa9"
      },
      "outputs": [
        {
          "output_type": "display_data",
          "data": {
            "text/plain": [
              "<IPython.core.display.HTML object>"
            ],
            "text/html": [
              "\n",
              "    <div>\n",
              "      \n",
              "      <progress value='50' max='50' style='width:300px; height:20px; vertical-align: middle;'></progress>\n",
              "      [50/50 01:09, Epoch 1/1]\n",
              "    </div>\n",
              "    <table border=\"1\" class=\"dataframe\">\n",
              "  <thead>\n",
              " <tr style=\"text-align: left;\">\n",
              "      <th>Step</th>\n",
              "      <th>Training Loss</th>\n",
              "    </tr>\n",
              "  </thead>\n",
              "  <tbody>\n",
              "    <tr>\n",
              "      <td>50</td>\n",
              "      <td>30.275200</td>\n",
              "    </tr>\n",
              "  </tbody>\n",
              "</table><p>"
            ]
          },
          "metadata": {}
        },
        {
          "output_type": "stream",
          "name": "stderr",
          "text": [
            "2025/10/08 16:45:42 WARNING mlflow.transformers: The model card could not be retrieved from the hub due to 401 Client Error. (Request ID: Root=1-68e69536-25240abb372d93845e85a78f;b0f4b1eb-1198-4622-a52e-ea0787889644)\n",
            "\n",
            "Repository Not Found for url: https://huggingface.co/merged_model/resolve/main/README.md.\n",
            "Please make sure you specified the correct `repo_id` and `repo_type`.\n",
            "If you are trying to access a private or gated repo, make sure you are authenticated. For more details, see https://huggingface.co/docs/huggingface_hub/authentication\n",
            "Invalid username or password.\n",
            "2025/10/08 16:45:42 WARNING mlflow.transformers: Unable to find license information for this model. Please verify permissible usage for the model you are storing prior to use.\n",
            "Registered model 'health-llm' already exists. Creating a new version of this model...\n",
            "2025/10/08 16:49:15 INFO mlflow.store.model_registry.abstract_store: Waiting up to 300 seconds for model version to finish creation. Model name: health-llm, version 3\n",
            "Created version '3' of model 'health-llm'.\n"
          ]
        },
        {
          "output_type": "stream",
          "name": "stdout",
          "text": [
            "Model registered with version: 3\n",
            "🏃 View run zealous-foal-159 at: https://ridgy-receptually-mike.ngrok-free.dev/#/experiments/10/runs/acaee44c6918425eba079f5e18ae050c\n",
            "🧪 View experiment at: https://ridgy-receptually-mike.ngrok-free.dev/#/experiments/10\n"
          ]
        }
      ],
      "execution_count": null
    },
    {
      "cell_type": "markdown",
      "source": [
        "# Load model"
      ],
      "metadata": {
        "id": "RPZvHNP8K6Be"
      }
    },
    {
      "cell_type": "code",
      "source": [
        "import mlflow\n",
        "from transformers import AutoModelForSeq2SeqLM, AutoTokenizer, pipeline\n",
        "\n",
        "# Lấy đường dẫn artifacts thật\n",
        "model_uri = mlflow.get_artifact_uri(\"models:/health-llm@Little-testing\")\n",
        "\n",
        "# In ra để xem đúng chưa\n",
        "print(\"Model URI:\", model_uri)\n"
      ],
      "metadata": {
        "id": "YM_bt3fHK6u_",
        "colab": {
          "base_uri": "https://localhost:8080/"
        },
        "outputId": "2b3c2f84-ec3a-4414-ce44-ee9e5669a444"
      },
      "execution_count": 3,
      "outputs": [
        {
          "output_type": "stream",
          "name": "stderr",
          "text": [
            "2025/10/09 06:16:47 WARNING mlflow.tracking.fluent: No active run found. A new active run will be created. If this is not intended, please create a run using `mlflow.start_run()` first.\n"
          ]
        },
        {
          "output_type": "stream",
          "name": "stdout",
          "text": [
            "Model URI: file:///content/mlruns/0/0dea1fb9aa3445ee9d03cbbc7917a2bb/artifacts/models:/health-llm@Little-testing\n"
          ]
        }
      ]
    },
    {
      "cell_type": "code",
      "source": [
        "# Tải model trực tiếp từ artifact local\n",
        "model_dir = mlflow.artifacts.download_artifacts(model_uri)\n",
        "\n",
        "# Load thủ công qua HF\n",
        "model = AutoModelForSeq2SeqLM.from_pretrained(model_dir)\n",
        "tokenizer = AutoTokenizer.from_pretrained(model_dir)\n",
        "\n",
        "pipe = pipeline(\"text2text-generation\", model=model, tokenizer=tokenizer, device_map=\"auto\")\n",
        "\n",
        "test_query = \"Con tôi bị chảy máu mũi thì bị gì?\"\n",
        "response = pipe(test_query, max_new_tokens=128)\n",
        "print(response[0][\"generated_text\"])"
      ],
      "metadata": {
        "id": "ELCTXq562nO3",
        "colab": {
          "base_uri": "https://localhost:8080/",
          "height": 356
        },
        "outputId": "44b9aa9b-1232-4a50-a6a7-9526ba7f593f"
      },
      "execution_count": 4,
      "outputs": [
        {
          "output_type": "error",
          "ename": "OSError",
          "evalue": "No such file or directory: '/content/mlruns/0/0dea1fb9aa3445ee9d03cbbc7917a2bb/artifacts/models:/health-llm@Little-testing'",
          "traceback": [
            "\u001b[0;31m---------------------------------------------------------------------------\u001b[0m",
            "\u001b[0;31mOSError\u001b[0m                                   Traceback (most recent call last)",
            "\u001b[0;32m/tmp/ipython-input-1734962786.py\u001b[0m in \u001b[0;36m<cell line: 0>\u001b[0;34m()\u001b[0m\n\u001b[1;32m      1\u001b[0m \u001b[0;31m# Tải model trực tiếp từ artifact local\u001b[0m\u001b[0;34m\u001b[0m\u001b[0;34m\u001b[0m\u001b[0m\n\u001b[0;32m----> 2\u001b[0;31m \u001b[0mmodel_dir\u001b[0m \u001b[0;34m=\u001b[0m \u001b[0mmlflow\u001b[0m\u001b[0;34m.\u001b[0m\u001b[0martifacts\u001b[0m\u001b[0;34m.\u001b[0m\u001b[0mdownload_artifacts\u001b[0m\u001b[0;34m(\u001b[0m\u001b[0mmodel_uri\u001b[0m\u001b[0;34m)\u001b[0m\u001b[0;34m\u001b[0m\u001b[0;34m\u001b[0m\u001b[0m\n\u001b[0m\u001b[1;32m      3\u001b[0m \u001b[0;34m\u001b[0m\u001b[0m\n\u001b[1;32m      4\u001b[0m \u001b[0;31m# Load thủ công qua HF\u001b[0m\u001b[0;34m\u001b[0m\u001b[0;34m\u001b[0m\u001b[0m\n\u001b[1;32m      5\u001b[0m \u001b[0mmodel\u001b[0m \u001b[0;34m=\u001b[0m \u001b[0mAutoModelForSeq2SeqLM\u001b[0m\u001b[0;34m.\u001b[0m\u001b[0mfrom_pretrained\u001b[0m\u001b[0;34m(\u001b[0m\u001b[0mmodel_dir\u001b[0m\u001b[0;34m)\u001b[0m\u001b[0;34m\u001b[0m\u001b[0;34m\u001b[0m\u001b[0m\n",
            "\u001b[0;32m/usr/local/lib/python3.12/dist-packages/mlflow/artifacts/__init__.py\u001b[0m in \u001b[0;36mdownload_artifacts\u001b[0;34m(artifact_uri, run_id, artifact_path, dst_path, tracking_uri)\u001b[0m\n\u001b[1;32m     80\u001b[0m \u001b[0;34m\u001b[0m\u001b[0m\n\u001b[1;32m     81\u001b[0m     \u001b[0;32mif\u001b[0m \u001b[0martifact_uri\u001b[0m \u001b[0;32mis\u001b[0m \u001b[0;32mnot\u001b[0m \u001b[0;32mNone\u001b[0m\u001b[0;34m:\u001b[0m\u001b[0;34m\u001b[0m\u001b[0;34m\u001b[0m\u001b[0m\n\u001b[0;32m---> 82\u001b[0;31m         return _download_artifact_from_uri(\n\u001b[0m\u001b[1;32m     83\u001b[0m             \u001b[0martifact_uri\u001b[0m\u001b[0;34m,\u001b[0m \u001b[0moutput_path\u001b[0m\u001b[0;34m=\u001b[0m\u001b[0mdst_path\u001b[0m\u001b[0;34m,\u001b[0m \u001b[0mtracking_uri\u001b[0m\u001b[0;34m=\u001b[0m\u001b[0mtracking_uri\u001b[0m\u001b[0;34m\u001b[0m\u001b[0;34m\u001b[0m\u001b[0m\n\u001b[1;32m     84\u001b[0m         )\n",
            "\u001b[0;32m/usr/local/lib/python3.12/dist-packages/mlflow/tracking/artifact_utils.py\u001b[0m in \u001b[0;36m_download_artifact_from_uri\u001b[0;34m(artifact_uri, output_path, lineage_header_info, tracking_uri)\u001b[0m\n\u001b[1;32m    122\u001b[0m                 \u001b[0mlineage_header_info\u001b[0m\u001b[0;34m=\u001b[0m\u001b[0mlineage_header_info\u001b[0m\u001b[0;34m,\u001b[0m\u001b[0;34m\u001b[0m\u001b[0;34m\u001b[0m\u001b[0m\n\u001b[1;32m    123\u001b[0m             )\n\u001b[0;32m--> 124\u001b[0;31m         \u001b[0;32mreturn\u001b[0m \u001b[0mrepo\u001b[0m\u001b[0;34m.\u001b[0m\u001b[0mdownload_artifacts\u001b[0m\u001b[0;34m(\u001b[0m\u001b[0martifact_path\u001b[0m\u001b[0;34m=\u001b[0m\u001b[0martifact_path\u001b[0m\u001b[0;34m,\u001b[0m \u001b[0mdst_path\u001b[0m\u001b[0;34m=\u001b[0m\u001b[0moutput_path\u001b[0m\u001b[0;34m)\u001b[0m\u001b[0;34m\u001b[0m\u001b[0;34m\u001b[0m\u001b[0m\n\u001b[0m\u001b[1;32m    125\u001b[0m     \u001b[0;32mexcept\u001b[0m \u001b[0mException\u001b[0m \u001b[0;32mas\u001b[0m \u001b[0me\u001b[0m\u001b[0;34m:\u001b[0m\u001b[0;34m\u001b[0m\u001b[0;34m\u001b[0m\u001b[0m\n\u001b[1;32m    126\u001b[0m         \u001b[0;32mif\u001b[0m \u001b[0martifact_uri\u001b[0m\u001b[0;34m.\u001b[0m\u001b[0mstartswith\u001b[0m\u001b[0;34m(\u001b[0m\u001b[0;34m\"m-\"\u001b[0m\u001b[0;34m)\u001b[0m\u001b[0;34m:\u001b[0m\u001b[0;34m\u001b[0m\u001b[0;34m\u001b[0m\u001b[0m\n",
            "\u001b[0;32m/usr/local/lib/python3.12/dist-packages/mlflow/store/artifact/local_artifact_repo.py\u001b[0m in \u001b[0;36mdownload_artifacts\u001b[0;34m(self, artifact_path, dst_path)\u001b[0m\n\u001b[1;32m     90\u001b[0m         \u001b[0mlocal_artifact_path\u001b[0m \u001b[0;34m=\u001b[0m \u001b[0mos\u001b[0m\u001b[0;34m.\u001b[0m\u001b[0mpath\u001b[0m\u001b[0;34m.\u001b[0m\u001b[0mjoin\u001b[0m\u001b[0;34m(\u001b[0m\u001b[0mself\u001b[0m\u001b[0;34m.\u001b[0m\u001b[0martifact_dir\u001b[0m\u001b[0;34m,\u001b[0m \u001b[0mos\u001b[0m\u001b[0;34m.\u001b[0m\u001b[0mpath\u001b[0m\u001b[0;34m.\u001b[0m\u001b[0mnormpath\u001b[0m\u001b[0;34m(\u001b[0m\u001b[0martifact_path\u001b[0m\u001b[0;34m)\u001b[0m\u001b[0;34m)\u001b[0m\u001b[0;34m\u001b[0m\u001b[0;34m\u001b[0m\u001b[0m\n\u001b[1;32m     91\u001b[0m         \u001b[0;32mif\u001b[0m \u001b[0;32mnot\u001b[0m \u001b[0mos\u001b[0m\u001b[0;34m.\u001b[0m\u001b[0mpath\u001b[0m\u001b[0;34m.\u001b[0m\u001b[0mexists\u001b[0m\u001b[0;34m(\u001b[0m\u001b[0mlocal_artifact_path\u001b[0m\u001b[0;34m)\u001b[0m\u001b[0;34m:\u001b[0m\u001b[0;34m\u001b[0m\u001b[0;34m\u001b[0m\u001b[0m\n\u001b[0;32m---> 92\u001b[0;31m             \u001b[0;32mraise\u001b[0m \u001b[0mOSError\u001b[0m\u001b[0;34m(\u001b[0m\u001b[0;34mf\"No such file or directory: '{local_artifact_path}'\"\u001b[0m\u001b[0;34m)\u001b[0m\u001b[0;34m\u001b[0m\u001b[0;34m\u001b[0m\u001b[0m\n\u001b[0m\u001b[1;32m     93\u001b[0m         \u001b[0;32mreturn\u001b[0m \u001b[0mos\u001b[0m\u001b[0;34m.\u001b[0m\u001b[0mpath\u001b[0m\u001b[0;34m.\u001b[0m\u001b[0mabspath\u001b[0m\u001b[0;34m(\u001b[0m\u001b[0mlocal_artifact_path\u001b[0m\u001b[0;34m)\u001b[0m\u001b[0;34m\u001b[0m\u001b[0;34m\u001b[0m\u001b[0m\n\u001b[1;32m     94\u001b[0m \u001b[0;34m\u001b[0m\u001b[0m\n",
            "\u001b[0;31mOSError\u001b[0m: No such file or directory: '/content/mlruns/0/0dea1fb9aa3445ee9d03cbbc7917a2bb/artifacts/models:/health-llm@Little-testing'"
          ]
        }
      ]
    },
    {
      "cell_type": "code",
      "source": [],
      "metadata": {
        "id": "VDbdBzDIojwK"
      },
      "execution_count": null,
      "outputs": []
    }
  ]
}